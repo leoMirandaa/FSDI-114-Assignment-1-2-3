{
 "cells": [
  {
   "cell_type": "code",
   "execution_count": 1,
   "id": "3f0ddb12",
   "metadata": {},
   "outputs": [],
   "source": [
    "# In order to create  a linked list, we must first define a Node.\n",
    "\n",
    "class Node:\n",
    "    def __init__(self, data):\n",
    "        self.data = data\n",
    "        self.next = None"
   ]
  },
  {
   "cell_type": "code",
   "execution_count": 4,
   "id": "49c014e2",
   "metadata": {},
   "outputs": [
    {
     "name": "stdout",
     "output_type": "stream",
     "text": [
      "1\n",
      "2\n",
      "3\n"
     ]
    }
   ],
   "source": [
    "# Let's first start by creating a very rudiimentary singly linked list.\n",
    "\n",
    "# we begin by instantiating nodes.\n",
    "node0 = Node(1)\n",
    "node1 = Node(2)\n",
    "node2 = Node(3)\n",
    "\n",
    "# Every linked list has to have a \"head\" node\n",
    "head = node0\n",
    "\n",
    "# Because head and node0 both reference the same node, we can set it's \"next\" attribute like so:\n",
    "head.next = node1\n",
    "node1.next = node2\n",
    "\n",
    "#List traversal\n",
    "#Traversing a list requires that we keep a reference to a node very tiem we loop\n",
    "# and update it upon each loop by setting it to the next node's address(in memory)\n",
    "current = head\n",
    "while current: #this is the same\n",
    "    print(current.data)\n",
    "    current = current.next"
   ]
  },
  {
   "cell_type": "code",
   "execution_count": null,
   "id": "e206a1c6",
   "metadata": {},
   "outputs": [],
   "source": []
  }
 ],
 "metadata": {
  "kernelspec": {
   "display_name": "Python 3 (ipykernel)",
   "language": "python",
   "name": "python3"
  },
  "language_info": {
   "codemirror_mode": {
    "name": "ipython",
    "version": 3
   },
   "file_extension": ".py",
   "mimetype": "text/x-python",
   "name": "python",
   "nbconvert_exporter": "python",
   "pygments_lexer": "ipython3",
   "version": "3.8.10"
  }
 },
 "nbformat": 4,
 "nbformat_minor": 5
}
