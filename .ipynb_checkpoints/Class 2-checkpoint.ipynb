{
 "cells": [
  {
   "cell_type": "code",
   "execution_count": 13,
   "id": "26d2d7e8",
   "metadata": {},
   "outputs": [],
   "source": [
    "class Stack:\n",
    "    def __init__(self):\n",
    "        self.items = [] #python list\n",
    "        \n",
    "    def push(self, item):\n",
    "        self.items.append(item)\n",
    "        \n",
    "    def pop(self):\n",
    "        return self.items.pop()\n",
    "    \n",
    "    #nice to have but not absolutely needed methods:\n",
    "    def is_empty(self):\n",
    "        return self.items == []\n",
    "    \n",
    "    def peek(self):\n",
    "        return self.items[len(self.items)-1]\n",
    "    \n",
    "    def size(self):\n",
    "        return len(self.items)\n",
    "    \n",
    "    def show_elements(self):\n",
    "        print(\"The stack elements are: \")\n",
    "        print(self.items)\n",
    "    \n"
   ]
  },
  {
   "cell_type": "markdown",
   "id": "96d58e10",
   "metadata": {},
   "source": [
    "# MIni challenge 1\n",
    "## Stack reversal!\n",
    "#### Use a stack to reverse a collection if said a collection is fed to the stack in sequence\n",
    "Given a collection such as `[1, 2, 3, 4, 5]` or `['A', 'B', 'C', 'D']` use stack to reverse it so that you can get `[5,4,3,2,1,]` and `['D','C','B','A']` respectively.\n",
    "\n",
    "```\n",
    "Example:\n",
    "reverse_str([1,2,3]) == [3,2,1]\n",
    "\n",
    "* You code _must_ use the stack class above to do this *\n",
    "```\n",
    "\n",
    "##### Test cases\n",
    "```\n",
    "assert reverse_str(['a','b','c','d']) == ['d','c','b','a']\n",
    "assert reverse_str([10,20,30,40,50]) == [50,40,30,20,10]\n",
    "```\n"
   ]
  },
  {
   "cell_type": "code",
   "execution_count": 151,
   "id": "4af228be",
   "metadata": {},
   "outputs": [
    {
     "name": "stdout",
     "output_type": "stream",
     "text": [
      "The stack elements are: \n",
      "[1, 2, 3, 4, 5]\n",
      "is empty\n",
      "is empty\n",
      "is empty\n",
      "is empty\n",
      "is empty\n",
      "is empty\n",
      "new list: [5, 4, 3, 2, 1]\n",
      "The stack elements are: \n",
      "[1, 2, 3, 4, 5]\n",
      "is empty\n",
      "is empty\n",
      "is empty\n",
      "is empty\n",
      "is empty\n",
      "is empty\n",
      "new list: [5, 4, 3, 2, 1]\n",
      "True\n",
      "The stack elements are: \n",
      "['A', 'B', 'C', 'D']\n",
      "is empty\n",
      "is empty\n",
      "is empty\n",
      "is empty\n",
      "is empty\n",
      "new list: ['D', 'C', 'B', 'A']\n",
      "The stack elements are: \n",
      "['A', 'B', 'C', 'D']\n",
      "is empty\n",
      "is empty\n",
      "is empty\n",
      "is empty\n",
      "is empty\n",
      "new list: ['D', 'C', 'B', 'A']\n",
      "True\n"
     ]
    }
   ],
   "source": [
    "def reverse_str(list):\n",
    "    stack = Stack()\n",
    "    new_list = []\n",
    "    for element in list:\n",
    "        stack.push(element)\n",
    "    stack.show_elements()\n",
    "    while not stack.is_empty():\n",
    "        new_list.append(stack.pop())\n",
    "#     stack.show_elements()\n",
    "    \n",
    "    print(f'new list: {new_list}')\n",
    "    return new_list\n",
    "\n",
    "    \n",
    "list = [1,2,3,4,5]\n",
    "reverse_str(list)\n",
    "print(reverse_str(list) == [5, 4, 3, 2, 1])\n",
    "\n",
    "list = ['A','B','C','D']\n",
    "reverse_str(list)\n",
    "\n",
    "print(reverse_str(list) == ['D', 'C', 'B', 'A'])\n",
    "\n"
   ]
  },
  {
   "cell_type": "code",
   "execution_count": 146,
   "id": "832fe13f",
   "metadata": {},
   "outputs": [],
   "source": [
    "class Queue:\n",
    "    def __init__(self):\n",
    "        self.items = []\n",
    "        \n",
    "    def enqueue(self, item):\n",
    "        self.items.insert(0, item)\n",
    "    \n",
    "    def dequeue(self):\n",
    "        return self.items.pop()\n",
    "    \n",
    "    #nice to have methods:\n",
    "    def is_empty(self):\n",
    "        return self.items == []\n",
    "    \n",
    "    def size(self):\n",
    "        return len(self.items)"
   ]
  },
  {
   "cell_type": "code",
   "execution_count": 161,
   "id": "4d9efaca",
   "metadata": {},
   "outputs": [],
   "source": [
    "import time\n",
    "\n",
    "# Example of using queues:\n",
    "#fibonnaci sequence: 0, 1, 1, 2, 3, 5, 8\n",
    "#recursive fibonacci function:\n",
    "def fib(num):\n",
    "    if (num < 2):\n",
    "        return num\n",
    "    return fib(num-1) + fib(num-2)\n",
    "\n",
    "def proccess_fib(collection):\n",
    "    queue = Queue()\n",
    "    \n",
    "    for element in collection:\n",
    "        queue.enqueue(element)\n",
    "    while not queue.is_empty():\n",
    "        number = queue.dequeue()\n",
    "        start_time = time.perf_counter()\n",
    "        fib_no = fib(number)\n",
    "        end_time = time.perf_counter()\n",
    "        total_time = end_time - start_time\n",
    "        print(\"Fibonnaci #%s id %s\" % (number, fib_no))\n",
    "        print(\"Calculating that took: %.5f seconds.\"% total_time)\n",
    "#         print(\"Fibonacci #%s is: %s\"%(number, fib_no))\n",
    "        out_list = fib_no\n",
    "    return out_list\n",
    "\n"
   ]
  },
  {
   "cell_type": "code",
   "execution_count": 162,
   "id": "78f8ec32",
   "metadata": {},
   "outputs": [
    {
     "name": "stdout",
     "output_type": "stream",
     "text": [
      "Fibonnaci #0 id 0\n",
      "Calculating that took: 0.00000 seconds.\n",
      "Fibonnaci #1 id 1\n",
      "Calculating that took: 0.00000 seconds.\n",
      "Fibonnaci #2 id 1\n",
      "Calculating that took: 0.00000 seconds.\n",
      "Fibonnaci #3 id 2\n",
      "Calculating that took: 0.00000 seconds.\n",
      "Fibonnaci #4 id 3\n",
      "Calculating that took: 0.00001 seconds.\n",
      "Fibonnaci #5 id 5\n",
      "Calculating that took: 0.00001 seconds.\n",
      "Fibonnaci #6 id 8\n",
      "Calculating that took: 0.00001 seconds.\n",
      "Fibonnaci #7 id 13\n",
      "Calculating that took: 0.00001 seconds.\n",
      "Fibonnaci #8 id 21\n",
      "Calculating that took: 0.00002 seconds.\n",
      "Fibonnaci #9 id 34\n",
      "Calculating that took: 0.00003 seconds.\n"
     ]
    },
    {
     "data": {
      "text/plain": [
       "34"
      ]
     },
     "execution_count": 162,
     "metadata": {},
     "output_type": "execute_result"
    }
   ],
   "source": [
    "# proccess_fib([0,1,2,3,4,5])\n",
    "proccess_fib([i for i in range(10)])\n"
   ]
  },
  {
   "cell_type": "markdown",
   "id": "e446dc6f",
   "metadata": {},
   "source": [
    "# Mini Challenge 2\n",
    "### Queue 2 Stacks\n",
    "\n",
    "#### Create a queue using two stacks such that the only class attribute for your \"Queue2Stacks\" class are two stacks which are LIFO. Your Queue2Stacks class however must conform to the FIFO ordering principle\n",
    "\n",
    "```\n",
    "Example (of what's expected):\n",
    "q2stacks = Queue2Stacks()\n",
    "for i in range(5)\n",
    "    q2stacks.enqueue(i)\n",
    "    \n",
    "while not q2stacks.is_empty():\n",
    "    print(qstacks.dequeue())\n",
    "```\n",
    "\n",
    "The code above should print \"0,1,2,3,4\" vertically"
   ]
  },
  {
   "cell_type": "code",
   "execution_count": 190,
   "id": "d3fbd871",
   "metadata": {},
   "outputs": [],
   "source": [
    "class Queue2Stacks: \n",
    "    def __init__(self):\n",
    "        stack1 = Stack()\n",
    "        stack2 = Stack()\n",
    "#         self.stack1 = []\n",
    "#         self.stack2 = []\n",
    "        self.items = []\n",
    "        \n",
    "    def enqueue(self, item):\n",
    "        self.items.insert(0, item)\n",
    "    \n",
    "    def dequeue(self):\n",
    "        return self.items.pop()\n",
    "    \n",
    "    #nice to have methods:\n",
    "    def is_empty(self):\n",
    "        return self.items == []\n",
    "    \n",
    "    def size(self):\n",
    "        return len(self.items)\n",
    "        "
   ]
  },
  {
   "cell_type": "code",
   "execution_count": null,
   "id": "dc677e78",
   "metadata": {},
   "outputs": [],
   "source": [
    "queue = Queue()\n",
    "\n",
    "\n",
    "for i in range(5)"
   ]
  }
 ],
 "metadata": {
  "kernelspec": {
   "display_name": "Python 3 (ipykernel)",
   "language": "python",
   "name": "python3"
  },
  "language_info": {
   "codemirror_mode": {
    "name": "ipython",
    "version": 3
   },
   "file_extension": ".py",
   "mimetype": "text/x-python",
   "name": "python",
   "nbconvert_exporter": "python",
   "pygments_lexer": "ipython3",
   "version": "3.8.10"
  }
 },
 "nbformat": 4,
 "nbformat_minor": 5
}
