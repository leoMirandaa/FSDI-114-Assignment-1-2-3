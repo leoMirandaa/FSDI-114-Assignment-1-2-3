{
 "cells": [
  {
   "cell_type": "code",
   "execution_count": 1,
   "id": "b6a0c9cd",
   "metadata": {},
   "outputs": [],
   "source": [
    "# In order to create  a linked list, we must first define a Node.\n",
    "\n",
    "class Node:\n",
    "    def __init__(self, data):\n",
    "        self.data = data\n",
    "        self.next = None"
   ]
  },
  {
   "cell_type": "code",
   "execution_count": 4,
   "id": "8fd77cd4",
   "metadata": {},
   "outputs": [
    {
     "name": "stdout",
     "output_type": "stream",
     "text": [
      "1\n",
      "2\n",
      "3\n"
     ]
    }
   ],
   "source": [
    "# Let's first start by creating a very rudiimentary singly linked list.\n",
    "\n",
    "# we begin by instantiating nodes.\n",
    "node0 = Node(1)\n",
    "node1 = Node(2)\n",
    "node2 = Node(3)\n",
    "\n",
    "# Every linked list has to have a \"head\" node\n",
    "head = node0\n",
    "\n",
    "# Because head and node0 both reference the same node, we can set it's \"next\" attribute like so:\n",
    "head.next = node1\n",
    "node1.next = node2\n",
    "\n",
    "#List traversal\n",
    "#Traversing a list requires that we keep a reference to a node very tiem we loop\n",
    "# and update it upon each loop by setting it to the next node's address(in memory)\n",
    "current = head\n",
    "while current: #this is the same\n",
    "    print(current.data)\n",
    "    current = current.next"
   ]
  },
  {
   "cell_type": "code",
   "execution_count": 5,
   "id": "329698ec",
   "metadata": {},
   "outputs": [
    {
     "name": "stdout",
     "output_type": "stream",
     "text": [
      "5\n"
     ]
    }
   ],
   "source": [
    "# pass by value\n",
    "x = 5\n",
    "y = x\n",
    "\n",
    "# Because this is passing the value, the following line creates a \"copy\" of the data\n",
    "y = y-2\n",
    "\n",
    "# the original copy is unodified because only the value was passed to y\n",
    "print(x)\n",
    "\n",
    "# what python will pass by value are primitive data types such as int, float, bool and str"
   ]
  },
  {
   "cell_type": "code",
   "execution_count": 7,
   "id": "29bf16a0",
   "metadata": {},
   "outputs": [
    {
     "name": "stdout",
     "output_type": "stream",
     "text": [
      "3\n"
     ]
    }
   ],
   "source": [
    "x = Node(5)\n",
    "y = x\n",
    "\n",
    "y.data = y.data-2\n",
    "\n",
    "print(x.data)"
   ]
  },
  {
   "cell_type": "code",
   "execution_count": 12,
   "id": "67161c54",
   "metadata": {},
   "outputs": [
    {
     "name": "stdout",
     "output_type": "stream",
     "text": [
      "[1, 2, 3]\n",
      "140078487845504\n",
      "140078487845504\n"
     ]
    }
   ],
   "source": [
    "mylist = [1,2,3,4]\n",
    "\n",
    "myotherlist = mylist\n",
    "\n",
    "myotherlist.pop()\n",
    "\n",
    "print(mylist)\n",
    "\n",
    "print(id(mylist))\n",
    "print(id(myotherlist))"
   ]
  },
  {
   "cell_type": "code",
   "execution_count": 13,
   "id": "bf58e832",
   "metadata": {},
   "outputs": [
    {
     "name": "stdout",
     "output_type": "stream",
     "text": [
      "Help on class list in module builtins:\n",
      "\n",
      "class list(object)\n",
      " |  list(iterable=(), /)\n",
      " |  \n",
      " |  Built-in mutable sequence.\n",
      " |  \n",
      " |  If no argument is given, the constructor creates a new empty list.\n",
      " |  The argument must be an iterable if specified.\n",
      " |  \n",
      " |  Methods defined here:\n",
      " |  \n",
      " |  __add__(self, value, /)\n",
      " |      Return self+value.\n",
      " |  \n",
      " |  __contains__(self, key, /)\n",
      " |      Return key in self.\n",
      " |  \n",
      " |  __delitem__(self, key, /)\n",
      " |      Delete self[key].\n",
      " |  \n",
      " |  __eq__(self, value, /)\n",
      " |      Return self==value.\n",
      " |  \n",
      " |  __ge__(self, value, /)\n",
      " |      Return self>=value.\n",
      " |  \n",
      " |  __getattribute__(self, name, /)\n",
      " |      Return getattr(self, name).\n",
      " |  \n",
      " |  __getitem__(...)\n",
      " |      x.__getitem__(y) <==> x[y]\n",
      " |  \n",
      " |  __gt__(self, value, /)\n",
      " |      Return self>value.\n",
      " |  \n",
      " |  __iadd__(self, value, /)\n",
      " |      Implement self+=value.\n",
      " |  \n",
      " |  __imul__(self, value, /)\n",
      " |      Implement self*=value.\n",
      " |  \n",
      " |  __init__(self, /, *args, **kwargs)\n",
      " |      Initialize self.  See help(type(self)) for accurate signature.\n",
      " |  \n",
      " |  __iter__(self, /)\n",
      " |      Implement iter(self).\n",
      " |  \n",
      " |  __le__(self, value, /)\n",
      " |      Return self<=value.\n",
      " |  \n",
      " |  __len__(self, /)\n",
      " |      Return len(self).\n",
      " |  \n",
      " |  __lt__(self, value, /)\n",
      " |      Return self<value.\n",
      " |  \n",
      " |  __mul__(self, value, /)\n",
      " |      Return self*value.\n",
      " |  \n",
      " |  __ne__(self, value, /)\n",
      " |      Return self!=value.\n",
      " |  \n",
      " |  __repr__(self, /)\n",
      " |      Return repr(self).\n",
      " |  \n",
      " |  __reversed__(self, /)\n",
      " |      Return a reverse iterator over the list.\n",
      " |  \n",
      " |  __rmul__(self, value, /)\n",
      " |      Return value*self.\n",
      " |  \n",
      " |  __setitem__(self, key, value, /)\n",
      " |      Set self[key] to value.\n",
      " |  \n",
      " |  __sizeof__(self, /)\n",
      " |      Return the size of the list in memory, in bytes.\n",
      " |  \n",
      " |  append(self, object, /)\n",
      " |      Append object to the end of the list.\n",
      " |  \n",
      " |  clear(self, /)\n",
      " |      Remove all items from list.\n",
      " |  \n",
      " |  copy(self, /)\n",
      " |      Return a shallow copy of the list.\n",
      " |  \n",
      " |  count(self, value, /)\n",
      " |      Return number of occurrences of value.\n",
      " |  \n",
      " |  extend(self, iterable, /)\n",
      " |      Extend list by appending elements from the iterable.\n",
      " |  \n",
      " |  index(self, value, start=0, stop=9223372036854775807, /)\n",
      " |      Return first index of value.\n",
      " |      \n",
      " |      Raises ValueError if the value is not present.\n",
      " |  \n",
      " |  insert(self, index, object, /)\n",
      " |      Insert object before index.\n",
      " |  \n",
      " |  pop(self, index=-1, /)\n",
      " |      Remove and return item at index (default last).\n",
      " |      \n",
      " |      Raises IndexError if list is empty or index is out of range.\n",
      " |  \n",
      " |  remove(self, value, /)\n",
      " |      Remove first occurrence of value.\n",
      " |      \n",
      " |      Raises ValueError if the value is not present.\n",
      " |  \n",
      " |  reverse(self, /)\n",
      " |      Reverse *IN PLACE*.\n",
      " |  \n",
      " |  sort(self, /, *, key=None, reverse=False)\n",
      " |      Sort the list in ascending order and return None.\n",
      " |      \n",
      " |      The sort is in-place (i.e. the list itself is modified) and stable (i.e. the\n",
      " |      order of two equal elements is maintained).\n",
      " |      \n",
      " |      If a key function is given, apply it once to each list item and sort them,\n",
      " |      ascending or descending, according to their function values.\n",
      " |      \n",
      " |      The reverse flag can be set to sort in descending order.\n",
      " |  \n",
      " |  ----------------------------------------------------------------------\n",
      " |  Static methods defined here:\n",
      " |  \n",
      " |  __new__(*args, **kwargs) from builtins.type\n",
      " |      Create and return a new object.  See help(type) for accurate signature.\n",
      " |  \n",
      " |  ----------------------------------------------------------------------\n",
      " |  Data and other attributes defined here:\n",
      " |  \n",
      " |  __hash__ = None\n",
      "\n"
     ]
    }
   ],
   "source": [
    "help(list)"
   ]
  },
  {
   "cell_type": "code",
   "execution_count": 53,
   "id": "b7275ca0",
   "metadata": {},
   "outputs": [],
   "source": [
    "class SinglyLinkedList:\n",
    "    def __init__(self):\n",
    "        self.head = None #our SLL class keeps a reference to the head node\n",
    "        \n",
    "    def append(self, value):\n",
    "        if not self.head:                 #We first must check if there is a head node\n",
    "            self.head = Node(value)       #... if not, we create a new one\n",
    "        else:                             # IF there is an existing head...\n",
    "            current = self.head           # we begin traversing our list until we find the \"tail\"\n",
    "            while current.next:           # this while loop helps us traverse our list\n",
    "                current = current.next\n",
    "            current.next = Node(value)    # finally, when we find the tail Node, we append a new Node to it\n",
    "    \n",
    "    def __str__(self):\n",
    "        out = \"[%s\" % self.head.data      #you can (and will) use list traversal to \n",
    "        current = self.head.next          #perform most operations in lists\n",
    "        while current:                    #here is another example in which it helps us build a string\n",
    "            out += \", %s\" %current.data   #representation of our list(similar to python's default list)\n",
    "            current = current.next\n",
    "        out+= \"]\"\n",
    "        return out\n",
    "    "
   ]
  },
  {
   "cell_type": "code",
   "execution_count": 58,
   "id": "df761300",
   "metadata": {},
   "outputs": [
    {
     "name": "stdout",
     "output_type": "stream",
     "text": [
      "[0, 1, 2, 3, 4]\n"
     ]
    }
   ],
   "source": [
    "sll = SinglyLinkedList()\n",
    "for i in range(5):\n",
    "    sll.append(i)\n",
    "\n",
    "# current = sll.head\n",
    "# for i in range(5):\n",
    "#     print(current.data)\n",
    "#     current = current.next\n",
    "print(sll)"
   ]
  },
  {
   "cell_type": "code",
   "execution_count": 55,
   "id": "cdef66e7",
   "metadata": {},
   "outputs": [
    {
     "name": "stdout",
     "output_type": "stream",
     "text": [
      "[1, 2, 3, 4, 99]\n"
     ]
    }
   ],
   "source": [
    "mylist=[1,2,3,4,99]\n",
    "print(mylist)"
   ]
  },
  {
   "cell_type": "code",
   "execution_count": 72,
   "id": "52d70429",
   "metadata": {},
   "outputs": [],
   "source": [
    "class SinglyLinkedList:\n",
    "    def __init__(self):\n",
    "        self.head = None #our SLL class keeps a reference to the head node\n",
    "        \n",
    "    def append(self, value):\n",
    "        if not self.head:                 #We first must check if there is a head node\n",
    "            self.head = Node(value)       #... if not, we create a new one\n",
    "        else:                             # IF there is an existing head...\n",
    "            current = self.head           # we begin traversing our list until we find the \"tail\"\n",
    "            while current.next:           # this while loop helps us traverse our list\n",
    "                current = current.next\n",
    "            current.next = Node(value)    # finally, when we find the tail Node, we append a new Node to it\n",
    "    \n",
    "    def __str__(self):\n",
    "        out = \"[%s\" % self.head.data      #you can (and will) use list traversal to \n",
    "        current = self.head.next          #perform most operations in lists\n",
    "        while current:                    #here is another example in which it helps us build a string\n",
    "            out += \", %s\" %current.data   #representation of our list(similar to python's default list)\n",
    "            current = current.next\n",
    "        out+= \"]\"\n",
    "        return out\n",
    "    \n",
    "    #Mini challenge 1:\n",
    "    #Create an insert method that allows us to\n",
    "    #add a new node to the beginning or anywhere in the middle\n",
    "    #of our list. IF the index provided is larger than the size\n",
    "    #of our list, we simply APPEND the element\n",
    "    \n",
    "    def insert(self, index, value):\n",
    "        new_node = Node(value)\n",
    "        counter = 0\n",
    "        current = self.head\n",
    "        if index < 0:\n",
    "            raise IndexError(\"Negative indexes not supported.\")\n",
    "        if index == 0:\n",
    "            temp_node = self.head\n",
    "            self.head = new_node\n",
    "            self.head.next = temp_node\n",
    "        else:\n",
    "            prev = None\n",
    "            while current.next and counter != index:\n",
    "                prev = current\n",
    "                current = current.next\n",
    "                counter += 1\n",
    "            if index > counter:\n",
    "                current.next = new_node\n",
    "            elif index == counter:\n",
    "                prev.next = new_node\n",
    "                new_node.next = current\n",
    "    \n",
    "    # Homework: implement the \"remove\" method wich should allow us to:\n",
    "    # 1. Remove the head of the list (while preserving the rest of it, of course)\n",
    "    # 2. Remove anywhere between the head\n",
    "          "
   ]
  },
  {
   "cell_type": "code",
   "execution_count": 77,
   "id": "160c4a5b",
   "metadata": {},
   "outputs": [
    {
     "name": "stdout",
     "output_type": "stream",
     "text": [
      "String representation of our list: \n",
      "[0, 1, 2, 3, 4]\n",
      "Our list after replacing the head:\n",
      "[-1, 0, 1, 2, 3, 4]\n",
      "Our list after inserting before index 2: \n",
      "[-1, 0, 0.5, 1, 2, 3, 4]\n",
      "Our list after inserting befores an index that is larger than our list:\n",
      "[-1, 0, 0.5, 1, 2, 3, 4, 5]\n",
      "What happens if you try to gibe our inser method a negative index:\n",
      "Exception message: \n",
      "Negative indexes not supported.\n"
     ]
    }
   ],
   "source": [
    "sll = SinglyLinkedList()\n",
    "for i in range(5):\n",
    "    sll.append(i)\n",
    "\n",
    "# current = sll.head\n",
    "# for i in range(5):\n",
    "#     print(current.data)\n",
    "#     current = current.next\n",
    "print(\"String representation of our list: \")\n",
    "print(sll)\n",
    "\n",
    "print(\"Our list after replacing the head:\")\n",
    "sll.insert(0, -1)\n",
    "print(sll)\n",
    "\n",
    "print(\"Our list after inserting before index 2: \")\n",
    "sll.insert(2, 0.5)\n",
    "print(sll)\n",
    "\n",
    "print(\"Our list after inserting befores an index that is larger than our list:\")\n",
    "sll.insert(1000, 5)\n",
    "print(sll)\n",
    "\n",
    "print(\"What happens if you try to gibe our inser method a negative index:\")\n",
    "try:\n",
    "    sll.insert(-1, 'x')\n",
    "except IndexError as e:\n",
    "    print(\"Exception message: \")\n",
    "    print(e)"
   ]
  },
  {
   "cell_type": "code",
   "execution_count": null,
   "id": "6b2d293e",
   "metadata": {},
   "outputs": [],
   "source": [
    "\n"
   ]
  }
 ],
 "metadata": {
  "kernelspec": {
   "display_name": "Python 3 (ipykernel)",
   "language": "python",
   "name": "python3"
  },
  "language_info": {
   "codemirror_mode": {
    "name": "ipython",
    "version": 3
   },
   "file_extension": ".py",
   "mimetype": "text/x-python",
   "name": "python",
   "nbconvert_exporter": "python",
   "pygments_lexer": "ipython3",
   "version": "3.8.10"
  }
 },
 "nbformat": 4,
 "nbformat_minor": 5
}
