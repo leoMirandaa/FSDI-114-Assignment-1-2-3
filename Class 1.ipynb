{
 "cells": [
  {
   "cell_type": "code",
   "execution_count": 6,
   "id": "5fd6c3d1",
   "metadata": {
    "scrolled": true
   },
   "outputs": [
    {
     "name": "stdout",
     "output_type": "stream",
     "text": [
      "h | e | l | l | o | , |   | w | o | r | l | d | "
     ]
    }
   ],
   "source": [
    "for letter in \"hello, world\":\n",
    "    print(letter, end=\" | \")"
   ]
  },
  {
   "cell_type": "markdown",
   "id": "07e99633",
   "metadata": {},
   "source": [
    "# Problem 1\n",
    "### Given two strings (string_a and string_b) let's check whether or not they are enagrams of each other given the following criteria\n",
    "> Two strings are only anagrams of each other if all conditions below are met:\n",
    "> * They must be exactly the same length\n",
    "> * The must use exactly the same characters (no more, no less).\n",
    "\n",
    "`Examples: car and scar, heart and earth, etc`\n",
    "\n"
   ]
  },
  {
   "cell_type": "code",
   "execution_count": 68,
   "id": "c7499bd4",
   "metadata": {},
   "outputs": [
    {
     "name": "stdout",
     "output_type": "stream",
     "text": [
      "True\n",
      "True\n",
      "False\n",
      "False\n",
      "False\n",
      "True\n"
     ]
    }
   ],
   "source": [
    "def compare_strings(string1, string2):\n",
    "    aux = 0\n",
    "    for str1 in string1:\n",
    "        for str2 in string2:\n",
    "            if str1 == str2:\n",
    "                aux+=1\n",
    "                break\n",
    "    return aux\n",
    "            \n",
    "def are_anagram(string_a, string_b):\n",
    "    if len(string_a) == len(string_b):\n",
    "        compare_strings(string_a, string_b)\n",
    "        if(compare_strings(string_a, string_b) != len(string_b)):\n",
    "            return False\n",
    "        else: \n",
    "            return True\n",
    "    else:\n",
    "        return False\n",
    "\n",
    "\n",
    "assert are_anagram(\"cars\", \"scar\") == True, \"Aren't anagram\"\n",
    "assert are_anagram(\"heart\", \"earth\") == True, \"Aren't anagram\"\n",
    "assert are_anagram(\"caars\", \"scar\") == False, \"Aren't anagram\"\n",
    "assert are_anagram(\"rats\", \"sttr\") == False, \"Aren't anagram\"\n",
    "assert are_anagram(\"stars\", \"sttrs\") == False, \"Aren't anagram\"\n",
    "assert are_anagram(\"iamlordvoldemort\", \"tommarvoloriddle\") == True, \"Aren't anagram\"\n",
    "\n",
    "\n",
    "print(are_anagram(\"cars\", \"scar\"))\n",
    "print(are_anagram(\"heart\",\"earth\"))\n",
    "print(are_anagram(\"caars\", \"scar\"))\n",
    "print(are_anagram(\"rats\", \"sttr\"))\n",
    "print(are_anagram(\"stars\",\"sttrs\"))\n",
    "print(are_anagram('iamlordvoldemort', 'tommarvoloriddle'))"
   ]
  },
  {
   "cell_type": "markdown",
   "id": "38ff1d5e",
   "metadata": {},
   "source": [
    "# Problem extension\n",
    "### In the Harry potter series, the villain \"voldemort\" choose this name because the phrase \"I am Lord Voldemort\" is an anagram of \"Tom Marvolo Riddle\".\n",
    "> Given our solution above, update the function's code to ensure that given these two parameters, our functions returns True.\n",
    "\n",
    "```\n",
    "assert are_anagrams(\"I am Lord Voldemort\", \"Tom Marvolo Riddle\")\n",
    "```"
   ]
  },
  {
   "cell_type": "code",
   "execution_count": 2,
   "id": "ea20295f",
   "metadata": {},
   "outputs": [
    {
     "name": "stdout",
     "output_type": "stream",
     "text": [
      "True\n"
     ]
    }
   ],
   "source": [
    "def compare_strings(string1, string2):\n",
    "    aux = 0\n",
    "    for str1 in string1:\n",
    "        for str2 in string2:\n",
    "#             print(f\"**{str1, str2}**\")\n",
    "            if str1 == str2:\n",
    "                aux+=1\n",
    "                break\n",
    "    return aux\n",
    "            \n",
    "def are_anagram(string_a, string_b):\n",
    "    phrase1 = string_a.lower().replace(\" \",\"\")\n",
    "    phrase2 = string_b.lower().replace(\" \",\"\")\n",
    "#     print(f\"{phrase1},{phrase2}\")\n",
    "    if len(phrase1) == len(phrase2):\n",
    "        compare_strings(phrase1,phrase2)\n",
    "        if(compare_strings(phrase1, phrase2) != len(phrase2)):\n",
    "            return False\n",
    "        else: \n",
    "            return True\n",
    "    else:\n",
    "        return False\n",
    "\n",
    "assert are_anagram('I am Lord Voldemort', 'Tom Marvolo Riddle') == True, 'arent anagram'\n",
    "print(are_anagram('I am Lord Voldemort', 'Tom Marvolo Riddle'))"
   ]
  },
  {
   "cell_type": "code",
   "execution_count": null,
   "id": "b3cdc84c",
   "metadata": {},
   "outputs": [],
   "source": []
  }
 ],
 "metadata": {
  "kernelspec": {
   "display_name": "Python 3.10.4 64-bit",
   "language": "python",
   "name": "python3"
  },
  "language_info": {
   "codemirror_mode": {
    "name": "ipython",
    "version": 3
   },
   "file_extension": ".py",
   "mimetype": "text/x-python",
   "name": "python",
   "nbconvert_exporter": "python",
   "pygments_lexer": "ipython3",
   "version": "3.10.4"
  },
  "vscode": {
   "interpreter": {
    "hash": "d3fd1c4976a856e4c287d7192f234fae895528668053a6b1685e71afdf828a80"
   }
  }
 },
 "nbformat": 4,
 "nbformat_minor": 5
}
